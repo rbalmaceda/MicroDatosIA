{
 "cells": [
  {
   "cell_type": "markdown",
   "id": "5216cc51",
   "metadata": {},
   "source": [
    "# Demo de depuración en Jupyter\n",
    "\n",
    "Este notebook muestra cómo importar y depurar funciones de `helper_module.py`.\n",
    "Ejecuta las celdas una a una y usa las herramientas de depuración del notebook o de VS Code."
   ]
  },
  {
   "cell_type": "code",
   "execution_count": 2,
   "id": "e692a8f1",
   "metadata": {},
   "outputs": [
    {
     "name": "stdout",
     "output_type": "stream",
     "text": [
      "datos = [84.4422, 76.2954, 43.0572, 27.3917, 53.1275, 42.9934, 81.3799, 33.8313, 51.6597, 62.8382, 95.8113, 55.9687]\n"
     ]
    }
   ],
   "source": [
    "# Importamos las funciones del módulo auxiliar (está en la misma carpeta)\n",
    "from helper_module import compute_statistics, transform_and_sum\n",
    "\n",
    "# Generar datos de ejemplo\n",
    "import random\n",
    "random.seed(0)\n",
    "data = [round(random.uniform(0,100) + i*0.5, 4) for i in range(12)]\n",
    "print('datos =', data)"
   ]
  },
  {
   "cell_type": "code",
   "execution_count": 3,
   "id": "936d8b2d",
   "metadata": {},
   "outputs": [
    {
     "data": {
      "text/plain": [
       "{'mean': 59.066374999999994,\n",
       " 'std': 20.52951998396151,\n",
       " 'max': 95.8113,\n",
       " 'processed': [84.442,\n",
       "  76.295,\n",
       "  43.057,\n",
       "  27.392,\n",
       "  53.127,\n",
       "  42.993,\n",
       "  81.38,\n",
       "  33.831,\n",
       "  51.66,\n",
       "  62.838,\n",
       "  95.811,\n",
       "  55.969],\n",
       " 'count': 12}"
      ]
     },
     "execution_count": 3,
     "metadata": {},
     "output_type": "execute_result"
    }
   ],
   "source": [
    "# Llamada a compute_statistics y visualización del resultado\n",
    "stats = compute_statistics(data)\n",
    "stats"
   ]
  }
 ],
 "metadata": {
  "kernelspec": {
   "display_name": "hydromt-sfincs",
   "language": "python",
   "name": "python3"
  },
  "language_info": {
   "codemirror_mode": {
    "name": "ipython",
    "version": 3
   },
   "file_extension": ".py",
   "mimetype": "text/x-python",
   "name": "python",
   "nbconvert_exporter": "python",
   "pygments_lexer": "ipython3",
   "version": "3.10.17"
  }
 },
 "nbformat": 4,
 "nbformat_minor": 5
}
